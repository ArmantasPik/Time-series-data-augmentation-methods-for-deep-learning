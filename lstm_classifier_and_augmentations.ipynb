{
  "metadata": {
    "colab": {
      "provenance": [],
      "gpuType": "T4"
    },
    "kernelspec": {
      "name": "python3",
      "display_name": "Python 3",
      "language": "python"
    },
    "language_info": {
      "name": "python",
      "version": "3.10.12",
      "mimetype": "text/x-python",
      "codemirror_mode": {
        "name": "ipython",
        "version": 3
      },
      "pygments_lexer": "ipython3",
      "nbconvert_exporter": "python",
      "file_extension": ".py"
    },
    "accelerator": "GPU",
    "kaggle": {
      "accelerator": "gpu",
      "dataSources": [
        {
          "sourceId": 7394129,
          "sourceType": "datasetVersion",
          "datasetId": 4241531
        }
      ],
      "dockerImageVersionId": 30636,
      "isInternetEnabled": true,
      "language": "python",
      "sourceType": "notebook",
      "isGpuEnabled": true
    }
  },
  "nbformat_minor": 0,
  "nbformat": 4,
  "cells": [
    {
      "cell_type": "markdown",
      "source": [
        "# Kursinis. Mašininio mokymo laiko eilučių duomenų augmentacijos metodai\n",
        "Programų sistemų studentas Armantas Pikšrys"
      ],
      "metadata": {
        "id": "fjLzPOrAZZBu"
      }
    },
    {
      "cell_type": "markdown",
      "source": [
        "## Mount data"
      ],
      "metadata": {
        "id": "DiOgyPTmZpXn"
      }
    },
    {
      "cell_type": "code",
      "source": [
        "!pip install torchvision"
      ],
      "metadata": {
        "colab": {
          "base_uri": "https://localhost:8080/"
        },
        "id": "GaTmbfFBZXn8",
        "outputId": "dbd83d03-41a2-4b4a-b4ff-7f139a9e4540",
        "execution": {
          "iopub.status.busy": "2024-01-13T09:41:20.083505Z",
          "iopub.execute_input": "2024-01-13T09:41:20.083836Z",
          "iopub.status.idle": "2024-01-13T09:41:33.108734Z",
          "shell.execute_reply.started": "2024-01-13T09:41:20.083811Z",
          "shell.execute_reply": "2024-01-13T09:41:33.107742Z"
        },
        "trusted": true
      },
      "execution_count": 1,
      "outputs": [
        {
          "output_type": "stream",
          "name": "stdout",
          "text": [
            "Requirement already satisfied: torchvision in /usr/local/lib/python3.10/dist-packages (0.16.0+cu121)\n",
            "Requirement already satisfied: numpy in /usr/local/lib/python3.10/dist-packages (from torchvision) (1.23.5)\n",
            "Requirement already satisfied: requests in /usr/local/lib/python3.10/dist-packages (from torchvision) (2.31.0)\n",
            "Requirement already satisfied: torch==2.1.0 in /usr/local/lib/python3.10/dist-packages (from torchvision) (2.1.0+cu121)\n",
            "Requirement already satisfied: pillow!=8.3.*,>=5.3.0 in /usr/local/lib/python3.10/dist-packages (from torchvision) (9.4.0)\n",
            "Requirement already satisfied: filelock in /usr/local/lib/python3.10/dist-packages (from torch==2.1.0->torchvision) (3.13.1)\n",
            "Requirement already satisfied: typing-extensions in /usr/local/lib/python3.10/dist-packages (from torch==2.1.0->torchvision) (4.5.0)\n",
            "Requirement already satisfied: sympy in /usr/local/lib/python3.10/dist-packages (from torch==2.1.0->torchvision) (1.12)\n",
            "Requirement already satisfied: networkx in /usr/local/lib/python3.10/dist-packages (from torch==2.1.0->torchvision) (3.2.1)\n",
            "Requirement already satisfied: jinja2 in /usr/local/lib/python3.10/dist-packages (from torch==2.1.0->torchvision) (3.1.2)\n",
            "Requirement already satisfied: fsspec in /usr/local/lib/python3.10/dist-packages (from torch==2.1.0->torchvision) (2023.6.0)\n",
            "Requirement already satisfied: triton==2.1.0 in /usr/local/lib/python3.10/dist-packages (from torch==2.1.0->torchvision) (2.1.0)\n",
            "Requirement already satisfied: charset-normalizer<4,>=2 in /usr/local/lib/python3.10/dist-packages (from requests->torchvision) (3.3.2)\n",
            "Requirement already satisfied: idna<4,>=2.5 in /usr/local/lib/python3.10/dist-packages (from requests->torchvision) (3.6)\n",
            "Requirement already satisfied: urllib3<3,>=1.21.1 in /usr/local/lib/python3.10/dist-packages (from requests->torchvision) (2.0.7)\n",
            "Requirement already satisfied: certifi>=2017.4.17 in /usr/local/lib/python3.10/dist-packages (from requests->torchvision) (2023.11.17)\n",
            "Requirement already satisfied: MarkupSafe>=2.0 in /usr/local/lib/python3.10/dist-packages (from jinja2->torch==2.1.0->torchvision) (2.1.3)\n",
            "Requirement already satisfied: mpmath>=0.19 in /usr/local/lib/python3.10/dist-packages (from sympy->torch==2.1.0->torchvision) (1.3.0)\n"
          ]
        }
      ]
    },
    {
      "cell_type": "code",
      "source": [
        "import tensorflow as tf\n",
        "print(tf.__version__)"
      ],
      "metadata": {
        "colab": {
          "base_uri": "https://localhost:8080/"
        },
        "id": "qcciSWmhvGYz",
        "outputId": "c621e1a5-ad66-42af-9831-9627cba9d332",
        "execution": {
          "iopub.status.busy": "2024-01-13T09:41:33.110484Z",
          "iopub.execute_input": "2024-01-13T09:41:33.110810Z",
          "iopub.status.idle": "2024-01-13T09:41:44.951666Z",
          "shell.execute_reply.started": "2024-01-13T09:41:33.110766Z",
          "shell.execute_reply": "2024-01-13T09:41:44.950569Z"
        },
        "trusted": true
      },
      "execution_count": 2,
      "outputs": [
        {
          "output_type": "stream",
          "name": "stdout",
          "text": [
            "2.15.0\n"
          ]
        }
      ]
    },
    {
      "cell_type": "code",
      "source": [
        "gpu_devices = tf.config.experimental.list_physical_devices('GPU')\n",
        "print(gpu_devices)\n",
        "if gpu_devices:\n",
        "    print('Using GPU')\n",
        "    tf.config.experimental.set_memory_growth(gpu_devices[0], True)\n",
        "else:\n",
        "    print('Using CPU')"
      ],
      "metadata": {
        "colab": {
          "base_uri": "https://localhost:8080/"
        },
        "id": "sVovdmIxvJTi",
        "outputId": "6428bc4d-222c-407d-96bd-36cca64685f7",
        "execution": {
          "iopub.status.busy": "2024-01-13T09:41:44.953247Z",
          "iopub.execute_input": "2024-01-13T09:41:44.954035Z",
          "iopub.status.idle": "2024-01-13T09:41:45.342485Z",
          "shell.execute_reply.started": "2024-01-13T09:41:44.953994Z",
          "shell.execute_reply": "2024-01-13T09:41:45.341103Z"
        },
        "trusted": true
      },
      "execution_count": 3,
      "outputs": [
        {
          "output_type": "stream",
          "name": "stdout",
          "text": [
            "[PhysicalDevice(name='/physical_device:GPU:0', device_type='GPU')]\n",
            "Using GPU\n"
          ]
        }
      ]
    },
    {
      "cell_type": "code",
      "source": [
        "from google.colab import drive\n",
        "drive.mount('/content/drive')"
      ],
      "metadata": {
        "colab": {
          "base_uri": "https://localhost:8080/"
        },
        "id": "v_WKYplCa-Ts",
        "outputId": "13cd2234-5654-491c-ab81-54599d1a19c2",
        "execution": {
          "iopub.status.busy": "2024-01-13T08:35:11.248386Z",
          "iopub.execute_input": "2024-01-13T08:35:11.248791Z",
          "iopub.status.idle": "2024-01-13T08:35:11.259561Z",
          "shell.execute_reply.started": "2024-01-13T08:35:11.248751Z",
          "shell.execute_reply": "2024-01-13T08:35:11.258523Z"
        },
        "trusted": true
      },
      "execution_count": 4,
      "outputs": [
        {
          "output_type": "stream",
          "name": "stdout",
          "text": [
            "Drive already mounted at /content/drive; to attempt to forcibly remount, call drive.mount(\"/content/drive\", force_remount=True).\n"
          ]
        }
      ]
    },
    {
      "cell_type": "code",
      "source": [
        "import os\n",
        "import pandas as pd\n",
        "import numpy as np\n",
        "from sklearn.model_selection import train_test_split\n",
        "from sklearn.preprocessing import StandardScaler\n",
        "from keras.models import Sequential\n",
        "from keras.layers import LSTM, Dense, Dropout\n",
        "from keras import backend as K\n",
        "from keras.models import Sequential\n",
        "from keras.layers import TimeDistributed, Conv1D, BatchNormalization, AveragePooling1D, Dropout, Flatten\n",
        "from keras.layers import LSTM, Dense\n",
        "from keras import layers\n",
        "from keras.optimizers import Adam\n",
        "import tensorflow as tf\n",
        "from sklearn.preprocessing import LabelEncoder"
      ],
      "metadata": {
        "id": "Ke8Wwhv7u1iM",
        "execution": {
          "iopub.status.busy": "2024-01-13T09:41:45.345474Z",
          "iopub.execute_input": "2024-01-13T09:41:45.345885Z",
          "iopub.status.idle": "2024-01-13T09:41:45.731812Z",
          "shell.execute_reply.started": "2024-01-13T09:41:45.345849Z",
          "shell.execute_reply": "2024-01-13T09:41:45.730997Z"
        },
        "trusted": true
      },
      "execution_count": 5,
      "outputs": []
    },
    {
      "cell_type": "code",
      "source": [
        "# Set the window size\n",
        "window_size = 640\n",
        "\n",
        "# Directory where your files are located\n",
        "data_dir = \"./drive/MyDrive/kursinis/WeightDataCleaned\"  # Replace with the actual directory path"
      ],
      "metadata": {
        "id": "PZ1XMgnXVDPE",
        "execution": {
          "iopub.status.busy": "2024-01-13T13:09:20.263433Z",
          "iopub.execute_input": "2024-01-13T13:09:20.263834Z",
          "iopub.status.idle": "2024-01-13T13:09:20.268799Z",
          "shell.execute_reply.started": "2024-01-13T13:09:20.263806Z",
          "shell.execute_reply": "2024-01-13T13:09:20.267649Z"
        },
        "trusted": true
      },
      "execution_count": 6,
      "outputs": []
    },
    {
      "cell_type": "code",
      "source": [
        "# Initialize empty lists for signals and labels\n",
        "signals = []\n",
        "labels = []"
      ],
      "metadata": {
        "id": "fJQss9VSu4Pq",
        "execution": {
          "iopub.status.busy": "2024-01-13T13:09:20.272937Z",
          "iopub.execute_input": "2024-01-13T13:09:20.273247Z",
          "iopub.status.idle": "2024-01-13T13:09:20.280424Z",
          "shell.execute_reply.started": "2024-01-13T13:09:20.273222Z",
          "shell.execute_reply": "2024-01-13T13:09:20.279457Z"
        },
        "trusted": true
      },
      "execution_count": 7,
      "outputs": []
    },
    {
      "cell_type": "code",
      "source": [
        "# Iterate over files in the directory\n",
        "for filename in os.listdir(data_dir):\n",
        "    if filename.endswith(\".csv\"):\n",
        "        file_path = os.path.join(data_dir, filename)\n",
        "        if float(filename.split(\"_\")[0]) == 0:\n",
        "            weight_label = float(0.5)\n",
        "        else:\n",
        "            weight_label = float(filename.split(\"_\")[0])\n",
        "\n",
        "        # Load CSV data\n",
        "        data = pd.read_csv(file_path)\n",
        "\n",
        "         # Create signals using a sliding window\n",
        "        num_rows = len(data)\n",
        "        step_size = 128\n",
        "\n",
        "        for i in range(0, num_rows - window_size + 1, step_size):\n",
        "            window_data = data.iloc[i:i+window_size]\n",
        "            signals.append(window_data.values)\n",
        "            labels.append(weight_label)"
      ],
      "metadata": {
        "id": "Iqpdm7k0u5zE",
        "execution": {
          "iopub.status.busy": "2024-01-13T13:09:20.292443Z",
          "iopub.execute_input": "2024-01-13T13:09:20.292745Z",
          "iopub.status.idle": "2024-01-13T13:09:20.530015Z",
          "shell.execute_reply.started": "2024-01-13T13:09:20.292721Z",
          "shell.execute_reply": "2024-01-13T13:09:20.529095Z"
        },
        "trusted": true
      },
      "execution_count": 9,
      "outputs": []
    },
    {
      "cell_type": "code",
      "source": [
        "# Convert the lists to NumPy arrays\n",
        "signals_array = np.array(signals)\n",
        "labels_array = np.array(labels)"
      ],
      "metadata": {
        "id": "UerwsPU2VYH3",
        "execution": {
          "iopub.status.busy": "2024-01-13T13:09:20.554201Z",
          "iopub.execute_input": "2024-01-13T13:09:20.554491Z",
          "iopub.status.idle": "2024-01-13T13:09:20.575317Z",
          "shell.execute_reply.started": "2024-01-13T13:09:20.554467Z",
          "shell.execute_reply": "2024-01-13T13:09:20.574444Z"
        },
        "trusted": true
      },
      "execution_count": 12,
      "outputs": []
    },
    {
      "cell_type": "code",
      "source": [
        "label_encoder = LabelEncoder()\n",
        "labels_array = label_encoder.fit_transform(labels_array)"
      ],
      "metadata": {
        "id": "o8ZIfu1zqX1g",
        "execution": {
          "iopub.status.busy": "2024-01-13T13:09:20.582410Z",
          "iopub.execute_input": "2024-01-13T13:09:20.582978Z",
          "iopub.status.idle": "2024-01-13T13:09:20.591907Z",
          "shell.execute_reply.started": "2024-01-13T13:09:20.582942Z",
          "shell.execute_reply": "2024-01-13T13:09:20.590975Z"
        },
        "trusted": true
      },
      "execution_count": 14,
      "outputs": []
    },
    {
      "cell_type": "code",
      "source": [
        "unique_labels, counts = np.unique(labels_array, return_counts=True)\n",
        "print(\"Unique Labels:\", unique_labels)\n",
        "print(\"Counts:\", counts)\n",
        "print(signals_array.shape)"
      ],
      "metadata": {
        "colab": {
          "base_uri": "https://localhost:8080/"
        },
        "id": "i-mcR1xqu-WS",
        "outputId": "82c4dca2-dbfe-413b-dfe9-36ab9bc27ddc",
        "execution": {
          "iopub.status.busy": "2024-01-13T13:09:20.604945Z",
          "iopub.execute_input": "2024-01-13T13:09:20.605385Z",
          "iopub.status.idle": "2024-01-13T13:09:20.614914Z",
          "shell.execute_reply.started": "2024-01-13T13:09:20.605351Z",
          "shell.execute_reply": "2024-01-13T13:09:20.613866Z"
        },
        "trusted": true
      },
      "execution_count": 16,
      "outputs": [
        {
          "output_type": "stream",
          "name": "stdout",
          "text": [
            "Unique Labels: [0 1 2 3 4]\n",
            "Counts: [187 189 201 213 209]\n",
            "(999, 640, 3)\n"
          ]
        }
      ]
    },
    {
      "cell_type": "code",
      "source": [
        "N = signals_array.shape[0]\n",
        "N_train = int(N*0.7)\n",
        "N_val = int(N*0.9)\n",
        "\n",
        "N_train, N_val, N"
      ],
      "metadata": {
        "colab": {
          "base_uri": "https://localhost:8080/"
        },
        "id": "YwFhHt_MoHH7",
        "outputId": "9eaa16bc-b4fc-43e3-ce6a-23371da8e6b0",
        "execution": {
          "iopub.status.busy": "2024-01-13T13:09:20.684978Z",
          "iopub.execute_input": "2024-01-13T13:09:20.685752Z",
          "iopub.status.idle": "2024-01-13T13:09:20.696698Z",
          "shell.execute_reply.started": "2024-01-13T13:09:20.685725Z",
          "shell.execute_reply": "2024-01-13T13:09:20.695840Z"
        },
        "trusted": true
      },
      "execution_count": 23,
      "outputs": [
        {
          "output_type": "execute_result",
          "data": {
            "text/plain": [
              "(699, 899, 999)"
            ]
          },
          "metadata": {},
          "execution_count": 23
        }
      ]
    },
    {
      "cell_type": "code",
      "source": [
        "np.random.seed(seed=123)\n",
        "arr = np.arange(N)\n",
        "np.random.shuffle(arr)\n",
        "\n",
        "arr.shape"
      ],
      "metadata": {
        "colab": {
          "base_uri": "https://localhost:8080/"
        },
        "id": "me1fiMEsptEN",
        "outputId": "46267cad-a546-481e-80dd-3458b7de1dbf",
        "execution": {
          "iopub.status.busy": "2024-01-13T13:09:20.697909Z",
          "iopub.execute_input": "2024-01-13T13:09:20.698203Z",
          "iopub.status.idle": "2024-01-13T13:09:20.709352Z",
          "shell.execute_reply.started": "2024-01-13T13:09:20.698178Z",
          "shell.execute_reply": "2024-01-13T13:09:20.708324Z"
        },
        "trusted": true
      },
      "execution_count": 24,
      "outputs": [
        {
          "output_type": "execute_result",
          "data": {
            "text/plain": [
              "(999,)"
            ]
          },
          "metadata": {},
          "execution_count": 24
        }
      ]
    },
    {
      "cell_type": "code",
      "source": [
        "x_train = np.load('./drive/MyDrive/kursinis/DataNumpy/data_x_640-128_train.npy')\n",
        "y_train = np.load('./drive/MyDrive/kursinis/DataNumpy/data_y_640-128_train.npy')./\n",
        "x_test = np.load('./drive/MyDrive/kursinis/DataNumpy/data_x_640-128_test.npy')\n",
        "y_test = np.load('./drive/MyDrive/kursinis/DataNumpy/data_y_640-128_test.npy')\n",
        "x_val = np.load('./drive/MyDrive/kursinis/DataNumpy/data_x_640-128_val.npy')\n",
        "y_val = np.load('./drive/MyDrive/kursinis/DataNumpy/data_y_640-128_val.npy')"
      ],
      "metadata": {
        "id": "sB1I4YT1NPwf",
        "_kg_hide-input": true,
        "execution": {
          "iopub.status.busy": "2024-01-13T13:09:20.723703Z",
          "iopub.execute_input": "2024-01-13T13:09:20.723983Z",
          "iopub.status.idle": "2024-01-13T13:09:20.757221Z",
          "shell.execute_reply.started": "2024-01-13T13:09:20.723959Z",
          "shell.execute_reply": "2024-01-13T13:09:20.755984Z"
        },
        "trusted": true
      },
      "execution_count": 26,
      "outputs": []
    },
    {
      "cell_type": "code",
      "source": [
        "mu = np.mean(signals_array[arr[:N_train]])\n",
        "va = np.std(signals_array[arr[:N_train]])"
      ],
      "metadata": {
        "id": "atFOOjCKvziI",
        "execution": {
          "iopub.status.busy": "2024-01-13T13:09:20.758760Z",
          "iopub.execute_input": "2024-01-13T13:09:20.759220Z",
          "iopub.status.idle": "2024-01-13T13:09:20.780348Z",
          "shell.execute_reply.started": "2024-01-13T13:09:20.759184Z",
          "shell.execute_reply": "2024-01-13T13:09:20.779458Z"
        },
        "trusted": true
      },
      "execution_count": 27,
      "outputs": []
    },
    {
      "cell_type": "code",
      "source": [
        "print(mu)\n",
        "print(va)"
      ],
      "metadata": {
        "colab": {
          "base_uri": "https://localhost:8080/"
        },
        "id": "q4QxUP3Fv0V-",
        "outputId": "2590a559-218f-4e63-802c-f427bf5bfe0c",
        "execution": {
          "iopub.status.busy": "2024-01-13T13:09:20.781688Z",
          "iopub.execute_input": "2024-01-13T13:09:20.782467Z",
          "iopub.status.idle": "2024-01-13T13:09:20.787643Z",
          "shell.execute_reply.started": "2024-01-13T13:09:20.782431Z",
          "shell.execute_reply": "2024-01-13T13:09:20.786507Z"
        },
        "trusted": true
      },
      "execution_count": 28,
      "outputs": [
        {
          "output_type": "stream",
          "name": "stdout",
          "text": [
            "698.4988853123509\n",
            "395.59220120613065\n"
          ]
        }
      ]
    },
    {
      "cell_type": "code",
      "source": [
        "x_train = (x_train - mu)/va\n",
        "x_val = (x_val - mu)/va\n",
        "x_test = (x_test - mu)/va\n",
        "\n",
        "n_classes = len(np.unique(y_train))\n",
        "\n",
        "x_train.shape, y_train.shape, x_val.shape, y_val.shape, x_test.shape, y_test.shape, n_classes"
      ],
      "metadata": {
        "colab": {
          "base_uri": "https://localhost:8080/"
        },
        "id": "ueeiESTaPTHO",
        "outputId": "cfd94658-e001-4c20-a8c0-df96f4472046",
        "execution": {
          "iopub.status.busy": "2024-01-13T13:09:20.807630Z",
          "iopub.execute_input": "2024-01-13T13:09:20.808194Z",
          "iopub.status.idle": "2024-01-13T13:09:20.823727Z",
          "shell.execute_reply.started": "2024-01-13T13:09:20.808167Z",
          "shell.execute_reply": "2024-01-13T13:09:20.822755Z"
        },
        "trusted": true
      },
      "execution_count": 31,
      "outputs": [
        {
          "output_type": "execute_result",
          "data": {
            "text/plain": [
              "((699, 640, 3), (699,), (200, 640, 3), (200,), (100, 640, 3), (100,), 5)"
            ]
          },
          "metadata": {},
          "execution_count": 31
        }
      ]
    },
    {
      "cell_type": "code",
      "source": [
        "from sklearn.utils.class_weight import compute_class_weight\n",
        "class_weights = compute_class_weight(\n",
        "                                        class_weight = \"balanced\",\n",
        "                                        classes = np.unique(y_train),\n",
        "                                        y = y_train\n",
        "                                    )\n",
        "class_weights = dict(zip(np.unique(y_train), class_weights))\n",
        "class_weights"
      ],
      "metadata": {
        "colab": {
          "base_uri": "https://localhost:8080/"
        },
        "id": "OcFT6Cv1B-YT",
        "outputId": "ad450490-1202-46cc-f0d7-68e5f9964d62",
        "execution": {
          "iopub.status.busy": "2024-01-13T13:09:20.841695Z",
          "iopub.execute_input": "2024-01-13T13:09:20.842105Z",
          "iopub.status.idle": "2024-01-13T13:09:20.851171Z",
          "shell.execute_reply.started": "2024-01-13T13:09:20.842068Z",
          "shell.execute_reply": "2024-01-13T13:09:20.850193Z"
        },
        "trusted": true
      },
      "execution_count": 33,
      "outputs": [
        {
          "output_type": "execute_result",
          "data": {
            "text/plain": [
              "{0: 1.0921875,\n",
              " 1: 1.059090909090909,\n",
              " 2: 0.9985714285714286,\n",
              " 3: 0.9708333333333333,\n",
              " 4: 0.9019354838709678}"
            ]
          },
          "metadata": {},
          "execution_count": 33
        }
      ]
    },
    {
      "cell_type": "code",
      "source": [
        "# Function to add Laplace noise to a single signal\n",
        "def add_laplace_noise(signal, scale=0.01):\n",
        "    noise = np.random.laplace(scale=scale, size=signal.shape)\n",
        "    return signal + noise"
      ],
      "metadata": {
        "id": "yjDSFzlI3ma6",
        "execution": {
          "iopub.status.busy": "2024-01-13T13:09:20.896775Z",
          "iopub.execute_input": "2024-01-13T13:09:20.897381Z",
          "iopub.status.idle": "2024-01-13T13:09:20.905239Z",
          "shell.execute_reply.started": "2024-01-13T13:09:20.897346Z",
          "shell.execute_reply": "2024-01-13T13:09:20.904409Z"
        },
        "trusted": true
      },
      "execution_count": 38,
      "outputs": []
    },
    {
      "cell_type": "code",
      "source": [
        "def add_laplace_noise_to_array(signal_array_values, signal_array_targets, scale=0.01, augmentation_multiplier=1):\n",
        "    combined_array = signal_array_values\n",
        "    combined_targets = signal_array_targets\n",
        "\n",
        "    for i in range(augmentation_multiplier):\n",
        "        noisy_array = signal_array_values.copy()\n",
        "\n",
        "        # Apply Laplace noise to each signal in the array\n",
        "        for i in range(noisy_array.shape[0]):\n",
        "            for j in range(noisy_array.shape[2]):\n",
        "                noisy_array[i, :, j] = add_laplace_noise(noisy_array[i, :, j])\n",
        "\n",
        "        # Append the Laplace-noised signals to x_train\n",
        "        combined_array = np.vstack([combined_array, noisy_array])\n",
        "\n",
        "        # Update labels accordingly\n",
        "        targets_original = signal_array_targets.copy()\n",
        "        combined_targets = np.concatenate([combined_targets, targets_original])\n",
        "\n",
        "    # Shuffle the combined data (regular + noised)\n",
        "    shuffle_indices = np.random.permutation(combined_array.shape[0])\n",
        "    combined_array = combined_array[shuffle_indices, :]\n",
        "    combined_targets = combined_targets[shuffle_indices]\n",
        "\n",
        "    return combined_array, combined_targets"
      ],
      "metadata": {
        "id": "X1d9qVLt3ly0",
        "execution": {
          "iopub.status.busy": "2024-01-13T13:09:20.906721Z",
          "iopub.execute_input": "2024-01-13T13:09:20.907109Z",
          "iopub.status.idle": "2024-01-13T13:09:20.916100Z",
          "shell.execute_reply.started": "2024-01-13T13:09:20.907052Z",
          "shell.execute_reply": "2024-01-13T13:09:20.915145Z"
        },
        "trusted": true
      },
      "execution_count": 39,
      "outputs": []
    },
    {
      "cell_type": "code",
      "source": [
        "# Function to add drift augmentation to a single signal\n",
        "def add_drift(signal, scale=0.01):\n",
        "    num_points = signal.shape[0]\n",
        "    time = np.arange(num_points)\n",
        "    drift = np.random.normal(scale=scale, size=num_points)\n",
        "    return signal + drift"
      ],
      "metadata": {
        "id": "UU_kI5SqBe_h",
        "execution": {
          "iopub.status.busy": "2024-01-13T13:09:20.917304Z",
          "iopub.execute_input": "2024-01-13T13:09:20.917633Z",
          "iopub.status.idle": "2024-01-13T13:09:20.925539Z",
          "shell.execute_reply.started": "2024-01-13T13:09:20.917606Z",
          "shell.execute_reply": "2024-01-13T13:09:20.924732Z"
        },
        "trusted": true
      },
      "execution_count": 40,
      "outputs": []
    },
    {
      "cell_type": "code",
      "source": [
        "def add_drift_to_array(signal_array_values, signal_array_targets, scale=0.01, augmentation_multiplier=1):\n",
        "    combined_array = signal_array_values\n",
        "    combined_targets = signal_array_targets\n",
        "\n",
        "    for i in range(augmentation_multiplier):\n",
        "        drifted_array = signal_array_values.copy()\n",
        "\n",
        "        # Apply drift augmentation to each signal in the array\n",
        "        for i in range(drifted_array.shape[0]):\n",
        "            for j in range(drifted_array.shape[2]):\n",
        "                drifted_array[i, :, j] = add_drift(drifted_array[i, :, j], scale=scale)\n",
        "\n",
        "        # Append the drifted signals to x_train\n",
        "        combined_array = np.vstack([combined_array, drifted_array])\n",
        "\n",
        "        # Update labels accordingly\n",
        "        targets_original = signal_array_targets.copy()\n",
        "        combined_targets = np.concatenate([combined_targets, targets_original])\n",
        "\n",
        "    # Shuffle the combined data (regular + drifted)\n",
        "    shuffle_indices = np.random.permutation(combined_array.shape[0])\n",
        "    combined_array = combined_array[shuffle_indices, :]\n",
        "    combined_targets = combined_targets[shuffle_indices]\n",
        "\n",
        "    return combined_array, combined_targets"
      ],
      "metadata": {
        "id": "_OonP2bPBguH",
        "execution": {
          "iopub.status.busy": "2024-01-13T13:09:20.926625Z",
          "iopub.execute_input": "2024-01-13T13:09:20.926898Z",
          "iopub.status.idle": "2024-01-13T13:09:20.935464Z",
          "shell.execute_reply.started": "2024-01-13T13:09:20.926875Z",
          "shell.execute_reply": "2024-01-13T13:09:20.934494Z"
        },
        "trusted": true
      },
      "execution_count": 41,
      "outputs": []
    },
    {
      "cell_type": "code",
      "source": [
        "def add_uniform_noise(signal, scale=0.01):\n",
        "    noise = np.random.uniform(low=-scale, high=scale, size=signal.shape)\n",
        "    return signal + noise"
      ],
      "metadata": {
        "id": "rMmmT6vusOPJ",
        "execution": {
          "iopub.status.busy": "2024-01-13T13:09:20.936624Z",
          "iopub.execute_input": "2024-01-13T13:09:20.936921Z",
          "iopub.status.idle": "2024-01-13T13:09:20.949102Z",
          "shell.execute_reply.started": "2024-01-13T13:09:20.936896Z",
          "shell.execute_reply": "2024-01-13T13:09:20.948099Z"
        },
        "trusted": true
      },
      "execution_count": 42,
      "outputs": []
    },
    {
      "cell_type": "code",
      "source": [
        "def add_uniform_noise_to_array(signal_array_values, signal_array_targets, scale=0.01, augmentation_multiplier=1):\n",
        "    combined_array = signal_array_values\n",
        "    combined_targets = signal_array_targets\n",
        "\n",
        "    for i in range(augmentation_multiplier):\n",
        "        uniformed_array = signal_array_values.copy()\n",
        "\n",
        "        # Apply drift augmentation to each signal in the array\n",
        "        for i in range(uniformed_array.shape[0]):\n",
        "            uniformed_array[i] = add_uniform_noise(uniformed_array[i], scale=scale)\n",
        "\n",
        "        # Append the drifted signals to x_train\n",
        "        combined_array = np.vstack([combined_array, uniformed_array])\n",
        "\n",
        "        # Update labels accordingly\n",
        "        targets_original = signal_array_targets.copy()\n",
        "        combined_targets = np.concatenate([combined_targets, targets_original])\n",
        "\n",
        "    # Shuffle the combined data (regular + drifted)\n",
        "    shuffle_indices = np.random.permutation(combined_array.shape[0])\n",
        "    combined_array = combined_array[shuffle_indices, :]\n",
        "    combined_targets = combined_targets[shuffle_indices]\n",
        "\n",
        "    return combined_array, combined_targets"
      ],
      "metadata": {
        "id": "axycL8jQry4A",
        "execution": {
          "iopub.status.busy": "2024-01-13T13:09:20.950313Z",
          "iopub.execute_input": "2024-01-13T13:09:20.950610Z",
          "iopub.status.idle": "2024-01-13T13:09:20.959543Z",
          "shell.execute_reply.started": "2024-01-13T13:09:20.950586Z",
          "shell.execute_reply": "2024-01-13T13:09:20.958457Z"
        },
        "trusted": true
      },
      "execution_count": 43,
      "outputs": []
    },
    {
      "cell_type": "code",
      "source": [
        "# Function to add combined Laplace noise and drift augmentation to a single signal\n",
        "def add_laplace_and_drift_augmentation(signal, laplace_scale=0.01, drift_scale=0.01):\n",
        "    # Apply Laplace noise\n",
        "    signal_with_laplace = add_laplace_noise(signal, scale=laplace_scale)\n",
        "\n",
        "    # Apply drift augmentation to the signal with Laplace noise\n",
        "    signal_with_combined_augmentation = add_drift(signal_with_laplace, scale=drift_scale)\n",
        "\n",
        "    return signal_with_combined_augmentation"
      ],
      "metadata": {
        "id": "0LuIcsq9X1pi",
        "execution": {
          "iopub.status.busy": "2024-01-13T13:09:20.960620Z",
          "iopub.execute_input": "2024-01-13T13:09:20.960901Z",
          "iopub.status.idle": "2024-01-13T13:09:20.972474Z",
          "shell.execute_reply.started": "2024-01-13T13:09:20.960878Z",
          "shell.execute_reply": "2024-01-13T13:09:20.971686Z"
        },
        "trusted": true
      },
      "execution_count": 44,
      "outputs": []
    },
    {
      "cell_type": "code",
      "source": [
        "def add_laplace_and_drift_augmentation_to_array(signal_array_values, signal_array_targets, laplace_scale=0.01, drift_scale=0.01, augmentation_multiplier=1):\n",
        "    combined_array = signal_array_values\n",
        "    combined_targets = signal_array_targets\n",
        "\n",
        "    for _ in range(augmentation_multiplier):\n",
        "        augmented_array = signal_array_values.copy()\n",
        "\n",
        "        # Apply combined augmentation to each signal in the array\n",
        "        for i in range(augmented_array.shape[0]):\n",
        "            for j in range(augmented_array.shape[2]):\n",
        "                augmented_array[i, :, j] = add_laplace_and_drift_augmentation(augmented_array[i, :, j], laplace_scale=laplace_scale, drift_scale=drift_scale)\n",
        "\n",
        "        # Append the augmented signals to x_train\n",
        "        combined_array = np.vstack([combined_array, augmented_array])\n",
        "\n",
        "        # Update labels accordingly\n",
        "        targets_original = signal_array_targets.copy()\n",
        "        combined_targets = np.concatenate([combined_targets, targets_original])\n",
        "\n",
        "    # Shuffle the combined data (regular + augmented)\n",
        "    shuffle_indices = np.random.permutation(combined_array.shape[0])\n",
        "    combined_array = combined_array[shuffle_indices, :]\n",
        "    combined_targets = combined_targets[shuffle_indices]\n",
        "\n",
        "    return combined_array, combined_targets"
      ],
      "metadata": {
        "id": "uNDzA1CPX9y2",
        "execution": {
          "iopub.status.busy": "2024-01-13T13:09:20.973646Z",
          "iopub.execute_input": "2024-01-13T13:09:20.974244Z",
          "iopub.status.idle": "2024-01-13T13:09:20.982420Z",
          "shell.execute_reply.started": "2024-01-13T13:09:20.974213Z",
          "shell.execute_reply": "2024-01-13T13:09:20.981635Z"
        },
        "trusted": true
      },
      "execution_count": 45,
      "outputs": []
    },
    {
      "cell_type": "code",
      "source": [
        "# Function to add combined Laplace noise and uniform noise augmentation to a single signal\n",
        "def add_laplace_and_uniform_augmentation(signal, laplace_scale=0.01, uniform_scale=0.01):\n",
        "    # Apply Laplace noise\n",
        "    signal_with_laplace = add_laplace_noise(signal, scale=laplace_scale)\n",
        "\n",
        "    # Apply uniform noise augmentation to the signal with Laplace noise\n",
        "    signal_with_combined_augmentation = add_uniform_noise(signal_with_laplace, scale=uniform_scale)\n",
        "\n",
        "    return signal_with_combined_augmentation"
      ],
      "metadata": {
        "id": "6KNIwOrAoE6j",
        "execution": {
          "iopub.status.busy": "2024-01-13T13:09:20.983674Z",
          "iopub.execute_input": "2024-01-13T13:09:20.984022Z",
          "iopub.status.idle": "2024-01-13T13:09:20.996579Z",
          "shell.execute_reply.started": "2024-01-13T13:09:20.983989Z",
          "shell.execute_reply": "2024-01-13T13:09:20.995802Z"
        },
        "trusted": true
      },
      "execution_count": 46,
      "outputs": []
    },
    {
      "cell_type": "code",
      "source": [
        "def add_laplace_and_uniform_augmentation_to_array(signal_array_values, signal_array_targets, laplace_scale=0.01, uniform_scale=0.01, augmentation_multiplier=1):\n",
        "    combined_array = signal_array_values\n",
        "    combined_targets = signal_array_targets\n",
        "\n",
        "    for _ in range(augmentation_multiplier):\n",
        "        augmented_array = signal_array_values.copy()\n",
        "\n",
        "        # Apply drift augmentation to each signal in the array\n",
        "        for i in range(augmented_array.shape[0]):\n",
        "            augmented_array[i] = add_laplace_and_uniform_augmentation(augmented_array[i], laplace_scale=laplace_scale, uniform_scale=uniform_scale)\n",
        "\n",
        "        # Append the augmented signals to x_train\n",
        "        combined_array = np.vstack([combined_array, augmented_array])\n",
        "\n",
        "        # Update labels accordingly\n",
        "        targets_original = signal_array_targets.copy()\n",
        "        combined_targets = np.concatenate([combined_targets, targets_original])\n",
        "\n",
        "    # Shuffle the combined data (regular + augmented)\n",
        "    shuffle_indices = np.random.permutation(combined_array.shape[0])\n",
        "    combined_array = combined_array[shuffle_indices, :]\n",
        "    combined_targets = combined_targets[shuffle_indices]\n",
        "\n",
        "    return combined_array, combined_targets"
      ],
      "metadata": {
        "id": "QkbZf465oVe5",
        "execution": {
          "iopub.status.busy": "2024-01-13T13:09:20.997838Z",
          "iopub.execute_input": "2024-01-13T13:09:20.998453Z",
          "iopub.status.idle": "2024-01-13T13:09:21.007258Z",
          "shell.execute_reply.started": "2024-01-13T13:09:20.998419Z",
          "shell.execute_reply": "2024-01-13T13:09:21.006350Z"
        },
        "trusted": true
      },
      "execution_count": 47,
      "outputs": []
    },
    {
      "cell_type": "code",
      "source": [
        "from itertools import permutations\n",
        "\n",
        "def all_channel_permutations_augmentation(data, labels):\n",
        "    num_samples, width, num_channels = data.shape\n",
        "\n",
        "    # Generate all possible channel permutations\n",
        "    all_permutations = list(permutations(range(num_channels)))\n",
        "    print(all_permutations)\n",
        "\n",
        "    # Create arrays to store the augmented data and labels\n",
        "    augmented_data = np.zeros((num_samples * len(all_permutations), width, num_channels))\n",
        "    augmented_labels = np.zeros((num_samples * len(all_permutations),))\n",
        "\n",
        "    # Iterate over each sample\n",
        "    for i in range(num_samples):\n",
        "        # Get the original channels and label for the current sample\n",
        "        original_channels = data[i, :, :]\n",
        "        original_label = labels[i]\n",
        "\n",
        "        # Create all permutations for the current sample\n",
        "        permuted_samples = [original_channels[:, perm] for perm in all_permutations]\n",
        "\n",
        "        # Concatenate the permuted samples to the augmented data\n",
        "        augmented_data[i * len(all_permutations): (i + 1) * len(all_permutations), :, :] = permuted_samples\n",
        "\n",
        "        # Set the same label for all augmented samples\n",
        "        augmented_labels[i * len(all_permutations): (i + 1) * len(all_permutations)] = original_label\n",
        "\n",
        "    # Shuffle the augmented data and labels together\n",
        "    shuffle_indices = np.random.permutation(len(augmented_labels))\n",
        "    augmented_data = augmented_data[shuffle_indices, :, :]\n",
        "    augmented_labels = augmented_labels[shuffle_indices]\n",
        "\n",
        "    return augmented_data, augmented_labels"
      ],
      "metadata": {
        "id": "ViqYd57G1uBU",
        "execution": {
          "iopub.status.busy": "2024-01-13T13:09:21.008243Z",
          "iopub.execute_input": "2024-01-13T13:09:21.008519Z",
          "iopub.status.idle": "2024-01-13T13:09:21.021068Z",
          "shell.execute_reply.started": "2024-01-13T13:09:21.008495Z",
          "shell.execute_reply": "2024-01-13T13:09:21.020099Z"
        },
        "trusted": true
      },
      "execution_count": 48,
      "outputs": []
    },
    {
      "cell_type": "code",
      "source": [
        "def multiply_and_reshuffle(train_values, train_labels, multiplier=29):\n",
        "\n",
        "    # Check if the multiplier is a positive integer\n",
        "    if not isinstance(multiplier, int) or multiplier <= 0:\n",
        "        raise ValueError(\"Multiplier should be a positive integer.\")\n",
        "\n",
        "    # Initialize arrays to store multiplied and reshuffled data\n",
        "    multiplied_and_shuffled_values = train_values.copy()\n",
        "    multiplied_and_shuffled_labels = train_labels.copy()\n",
        "\n",
        "    for _ in range(multiplier - 1):\n",
        "        # Multiply the data and labels\n",
        "        multiplied_and_shuffled_values = np.vstack([multiplied_and_shuffled_values, train_values])\n",
        "        multiplied_and_shuffled_labels = np.concatenate([multiplied_and_shuffled_labels, train_labels])\n",
        "\n",
        "    # Shuffle the combined data\n",
        "    shuffle_indices = np.random.permutation(multiplied_and_shuffled_values.shape[0])\n",
        "    multiplied_and_shuffled_values = multiplied_and_shuffled_values[shuffle_indices, :]\n",
        "    multiplied_and_shuffled_labels = multiplied_and_shuffled_labels[shuffle_indices]\n",
        "\n",
        "    return multiplied_and_shuffled_values, multiplied_and_shuffled_labels\n"
      ],
      "metadata": {
        "id": "lhvWnVCG4pG_",
        "execution": {
          "iopub.status.busy": "2024-01-13T13:09:21.022310Z",
          "iopub.execute_input": "2024-01-13T13:09:21.022796Z",
          "iopub.status.idle": "2024-01-13T13:09:21.035264Z",
          "shell.execute_reply.started": "2024-01-13T13:09:21.022542Z",
          "shell.execute_reply": "2024-01-13T13:09:21.034421Z"
        },
        "trusted": true
      },
      "execution_count": 49,
      "outputs": []
    },
    {
      "cell_type": "code",
      "source": [
        "def magnitude_warp(x, sigma=0.2, knot=4):\n",
        "    from scipy.interpolate import CubicSpline\n",
        "    orig_steps = np.arange(x.shape[1])\n",
        "\n",
        "    random_warps = np.random.normal(loc=1.0, scale=sigma, size=(x.shape[0], knot+2, x.shape[2]))\n",
        "    warp_steps = (np.ones((x.shape[2],1))*(np.linspace(0, x.shape[1]-1., num=knot+2))).T\n",
        "    ret = np.zeros_like(x)\n",
        "    for i, pat in enumerate(x):\n",
        "        warper = np.array([CubicSpline(warp_steps[:,dim], random_warps[i,:,dim])(orig_steps) for dim in range(x.shape[2])]).T\n",
        "        ret[i] = pat * warper\n",
        "\n",
        "    return ret"
      ],
      "metadata": {
        "id": "LikfSnDZSgNK",
        "execution": {
          "iopub.status.busy": "2024-01-13T13:09:21.036373Z",
          "iopub.execute_input": "2024-01-13T13:09:21.036719Z",
          "iopub.status.idle": "2024-01-13T13:09:21.048633Z",
          "shell.execute_reply.started": "2024-01-13T13:09:21.036672Z",
          "shell.execute_reply": "2024-01-13T13:09:21.047798Z"
        },
        "trusted": true
      },
      "execution_count": 50,
      "outputs": []
    },
    {
      "cell_type": "code",
      "source": [
        "from scipy.interpolate import CubicSpline\n",
        "\n",
        "def random_curve_generator(seq_len, dimensions, num_control_points=4):\n",
        "    # Generate random points to construct the spline curve\n",
        "    control_points = np.random.rand(num_control_points, dimensions) * 2 - 1  # Points in the range [-1, 1]\n",
        "    # Ensure first and last points are zeros, so the output curve starts and ends at the original magnitude\n",
        "    control_points[0], control_points[-1] = np.zeros(dimensions), np.zeros(dimensions)\n",
        "    # Generate a sequence of X values (time) to interpolate\n",
        "    x = np.linspace(0, 1, num_control_points)\n",
        "    # Create a sequence of points to evaluate the spline\n",
        "    x_eval = np.linspace(0, 1, seq_len)\n",
        "    # Perform cubic spline interpolation\n",
        "    cs = CubicSpline(x, control_points, axis=0)  # Interpolates along each dimension independently\n",
        "    warp_curve = cs(x_eval)\n",
        "    return warp_curve\n",
        "\n",
        "def magnitude_warping(time_series, sigma=0.2):\n",
        "    size, seq_len, dimensions = time_series.shape\n",
        "    warped_time_series = np.empty_like(time_series)\n",
        "    for i in range(size):\n",
        "        # Obtain a random curve\n",
        "        random_curve = random_curve_generator(seq_len, dimensions)\n",
        "        # Perturb the time series using random curve\n",
        "        warped_time_series[i] = time_series[i] * (1 + sigma * random_curve)\n",
        "    return warped_time_series"
      ],
      "metadata": {
        "id": "QEBWr91vVB0L",
        "execution": {
          "iopub.status.busy": "2024-01-13T13:09:21.049849Z",
          "iopub.execute_input": "2024-01-13T13:09:21.050269Z",
          "iopub.status.idle": "2024-01-13T13:09:21.060965Z",
          "shell.execute_reply.started": "2024-01-13T13:09:21.050237Z",
          "shell.execute_reply": "2024-01-13T13:09:21.060014Z"
        },
        "trusted": true
      },
      "execution_count": 51,
      "outputs": []
    },
    {
      "cell_type": "code",
      "source": [
        "def add_magnitude_warping_to_array(signal_array_values, signal_array_targets, sigma=0.2, augmentation_multiplier=1):\n",
        "    combined_array = signal_array_values\n",
        "    combined_targets = signal_array_targets\n",
        "\n",
        "    for i in range(augmentation_multiplier):\n",
        "        warped_array = signal_array_values.copy()\n",
        "\n",
        "        warped_array = magnitude_warping(warped_array, sigma)\n",
        "\n",
        "        # Append the drifted signals to x_train\n",
        "        combined_array = np.vstack([combined_array, warped_array])\n",
        "\n",
        "        # Update labels accordingly\n",
        "        targets_original = signal_array_targets.copy()\n",
        "        combined_targets = np.concatenate([combined_targets, targets_original])\n",
        "\n",
        "    # Shuffle the combined data (regular + drifted)\n",
        "    shuffle_indices = np.random.permutation(combined_array.shape[0])\n",
        "    combined_array = combined_array[shuffle_indices, :]\n",
        "    combined_targets = combined_targets[shuffle_indices]\n",
        "\n",
        "    return combined_array, combined_targets"
      ],
      "metadata": {
        "id": "-DHaZZxBWmLc",
        "execution": {
          "iopub.status.busy": "2024-01-13T13:09:21.062292Z",
          "iopub.execute_input": "2024-01-13T13:09:21.063029Z",
          "iopub.status.idle": "2024-01-13T13:09:21.075240Z",
          "shell.execute_reply.started": "2024-01-13T13:09:21.063003Z",
          "shell.execute_reply": "2024-01-13T13:09:21.074401Z"
        },
        "trusted": true
      },
      "execution_count": 52,
      "outputs": []
    },
    {
      "cell_type": "code",
      "source": [
        "x_train_noisy, y_train_noisy = add_uniform_noise_to_array(x_train, y_train, 0.01, 290)\n",
        "\n",
        "x_train_noisy.shape, y_train_noisy.shape"
      ],
      "metadata": {
        "id": "k5TlgE0nssuY",
        "execution": {
          "iopub.status.busy": "2024-01-13T13:09:21.130882Z",
          "iopub.execute_input": "2024-01-13T13:09:21.131178Z",
          "iopub.status.idle": "2024-01-13T13:09:21.139920Z",
          "shell.execute_reply.started": "2024-01-13T13:09:21.131153Z",
          "shell.execute_reply": "2024-01-13T13:09:21.138919Z"
        },
        "trusted": true,
        "colab": {
          "base_uri": "https://localhost:8080/"
        },
        "outputId": "77bdc183-899e-4470-9a1f-bb00bebd5178"
      },
      "execution_count": 58,
      "outputs": [
        {
          "output_type": "execute_result",
          "data": {
            "text/plain": [
              "((203409, 640, 3), (203409,))"
            ]
          },
          "metadata": {},
          "execution_count": 58
        }
      ]
    },
    {
      "cell_type": "code",
      "source": [
        "import matplotlib.pyplot as plt\n",
        "\n",
        "time_axis = np.arange(window_size)\n",
        "# Plot all channels in a single plot\n",
        "plt.figure(figsize=(12, 6))\n",
        "\n",
        "plt.plot(time_axis, x_train[0][:, 0], label='Channel 1', color='blue')\n",
        "plt.plot(time_axis, x_train[0][:, 1], label='Channel 2', color='green')\n",
        "plt.plot(time_axis, x_train[0][:, 2], label='Channel 3', color='red')\n",
        "\n",
        "plt.title('Signal Channels')\n",
        "plt.xlabel('Time')\n",
        "plt.ylabel('Amplitude')\n",
        "plt.legend()\n",
        "\n",
        "plt.show()\n",
        "\n",
        "time_axis = np.arange(window_size)\n",
        "# Plot all channels in a single plot\n",
        "plt.figure(figsize=(12, 6))\n",
        "\n",
        "plt.plot(time_axis, x_train_noisy[0][:, 0], label='Channel 1', color='blue')\n",
        "plt.plot(time_axis, x_train_noisy[0][:, 1], label='Channel 2', color='green')\n",
        "plt.plot(time_axis, x_train_noisy[0][:, 2], label='Channel 3', color='red')\n",
        "\n",
        "plt.title('Signal Channels')\n",
        "plt.xlabel('Time')\n",
        "plt.ylabel('Amplitude')\n",
        "plt.legend()\n",
        "\n",
        "plt.show()"
      ],
      "metadata": {
        "colab": {
          "base_uri": "https://localhost:8080/",
          "height": 1000
        },
        "id": "JUNCDw8wBbl6",
        "outputId": "e03ecb30-5161-4223-ec40-d905bfe9fc42",
        "execution": {
          "iopub.status.busy": "2024-01-13T13:12:15.481748Z",
          "iopub.execute_input": "2024-01-13T13:12:15.482066Z",
          "iopub.status.idle": "2024-01-13T13:12:16.715584Z",
          "shell.execute_reply.started": "2024-01-13T13:12:15.482015Z",
          "shell.execute_reply": "2024-01-13T13:12:16.714563Z"
        },
        "trusted": true
      },
      "execution_count": 70,
      "outputs": [
        {
          "output_type": "display_data",
          "data": {
            "text/plain": [
              "<Figure size 1200x600 with 1 Axes>"
            ],
            "image/png": "[encoded data removed]"
          },
          "metadata": {}
        },
        {
          "output_type": "display_data",
          "data": {
            "text/plain": [
              "<Figure size 1200x600 with 1 Axes>"
            ],
            "image/png": "[encoded data removed]"
          },
          "metadata": {}
        }
      ]
    },
    {
      "cell_type": "code",
      "source": [
        "## Long short-term memory ###\n",
        "def lstm(n_timesteps, n_features, n_steps,  n_outputs):\n",
        "    model = Sequential()\n",
        "    model.add(TimeDistributed(Conv1D(filters=512, kernel_size=3, activation='relu'), input_shape=(n_steps, n_timesteps // n_steps, n_features)))\n",
        "\n",
        "    model.add(BatchNormalization())\n",
        "    model.add(TimeDistributed(AveragePooling1D(pool_size=2)))\n",
        "    model.add(TimeDistributed(Conv1D(filters=128, kernel_size=3, activation='relu')))\n",
        "\n",
        "    model.add(BatchNormalization())\n",
        "    model.add(TimeDistributed(Dropout(0.5)))\n",
        "    model.add(TimeDistributed(AveragePooling1D(pool_size=2)))\n",
        "    model.add(TimeDistributed(Conv1D(filters=32, kernel_size=3, activation='relu')))\n",
        "\n",
        "    model.add(BatchNormalization())\n",
        "    model.add(TimeDistributed(Dropout(0.5)))\n",
        "    model.add(TimeDistributed(AveragePooling1D(pool_size=2)))\n",
        "    model.add(TimeDistributed(Conv1D(filters=8, kernel_size=3, activation='relu')))\n",
        "\n",
        "    model.add(BatchNormalization())\n",
        "    model.add(TimeDistributed(Dropout(0.5)))\n",
        "    model.add(TimeDistributed(AveragePooling1D(pool_size=2)))\n",
        "    model.add(TimeDistributed(Flatten()))\n",
        "\n",
        "    model.add(layers.LSTM(16, return_sequences=True))\n",
        "    model.add(Dropout(0.2))\n",
        "    model.add(layers.LSTM(16))\n",
        "    model.add(Dense(n_outputs, activation='softmax'))\n",
        "    return model"
      ],
      "metadata": {
        "id": "M1UajfXCkzs9",
        "execution": {
          "iopub.status.busy": "2024-01-13T13:12:16.717013Z",
          "iopub.execute_input": "2024-01-13T13:12:16.717411Z",
          "iopub.status.idle": "2024-01-13T13:12:16.729665Z",
          "shell.execute_reply.started": "2024-01-13T13:12:16.717376Z",
          "shell.execute_reply": "2024-01-13T13:12:16.728541Z"
        },
        "trusted": true
      },
      "execution_count": 71,
      "outputs": []
    },
    {
      "cell_type": "code",
      "source": [
        "# Create the LSTM model\n",
        "model = lstm(window_size, 3, 1, 5)"
      ],
      "metadata": {
        "id": "a0zQyv2Ak596",
        "execution": {
          "iopub.status.busy": "2024-01-13T13:12:16.754927Z",
          "iopub.execute_input": "2024-01-13T13:12:16.755293Z",
          "iopub.status.idle": "2024-01-13T13:12:17.533129Z",
          "shell.execute_reply.started": "2024-01-13T13:12:16.755259Z",
          "shell.execute_reply": "2024-01-13T13:12:17.531854Z"
        },
        "trusted": true
      },
      "execution_count": 74,
      "outputs": []
    },
    {
      "cell_type": "code",
      "source": [
        "# Compile the model\n",
        "model.compile(optimizer='adam', loss='sparse_categorical_crossentropy', metrics=['accuracy'])\n",
        "\n",
        "model.summary()"
      ],
      "metadata": {
        "colab": {
          "base_uri": "https://localhost:8080/"
        },
        "id": "iWqeAAajxBPB",
        "outputId": "4029ab98-9e05-4a9c-d27e-6f84216a5044",
        "execution": {
          "iopub.status.busy": "2024-01-13T13:12:17.534530Z",
          "iopub.execute_input": "2024-01-13T13:12:17.534865Z",
          "iopub.status.idle": "2024-01-13T13:12:17.608806Z",
          "shell.execute_reply.started": "2024-01-13T13:12:17.534823Z",
          "shell.execute_reply": "2024-01-13T13:12:17.607776Z"
        },
        "trusted": true
      },
      "execution_count": 75,
      "outputs": [
        {
          "output_type": "stream",
          "name": "stdout",
          "text": [
            "Model: \"sequential\"\n",
            "_________________________________________________________________\n",
            " Layer (type)                Output Shape              Param #   \n",
            "=================================================================\n",
            " time_distributed (TimeDist  (None, 1, 638, 512)       5120      \n",
            " ributed)                                                        \n",
            "                                                                 \n",
            " batch_normalization (Batch  (None, 1, 638, 512)       2048      \n",
            " Normalization)                                                  \n",
            "                                                                 \n",
            " time_distributed_1 (TimeDi  (None, 1, 319, 512)       0         \n",
            " stributed)                                                      \n",
            "                                                                 \n",
            " time_distributed_2 (TimeDi  (None, 1, 317, 128)       196736    \n",
            " stributed)                                                      \n",
            "                                                                 \n",
            " batch_normalization_1 (Bat  (None, 1, 317, 128)       512       \n",
            " chNormalization)                                                \n",
            "                                                                 \n",
            " time_distributed_3 (TimeDi  (None, 1, 317, 128)       0         \n",
            " stributed)                                                      \n",
            "                                                                 \n",
            " time_distributed_4 (TimeDi  (None, 1, 158, 128)       0         \n",
            " stributed)                                                      \n",
            "                                                                 \n",
            " time_distributed_5 (TimeDi  (None, 1, 156, 32)        12320     \n",
            " stributed)                                                      \n",
            "                                                                 \n",
            " batch_normalization_2 (Bat  (None, 1, 156, 32)        128       \n",
            " chNormalization)                                                \n",
            "                                                                 \n",
            " time_distributed_6 (TimeDi  (None, 1, 156, 32)        0         \n",
            " stributed)                                                      \n",
            "                                                                 \n",
            " time_distributed_7 (TimeDi  (None, 1, 78, 32)         0         \n",
            " stributed)                                                      \n",
            "                                                                 \n",
            " time_distributed_8 (TimeDi  (None, 1, 76, 8)          776       \n",
            " stributed)                                                      \n",
            "                                                                 \n",
            " batch_normalization_3 (Bat  (None, 1, 76, 8)          32        \n",
            " chNormalization)                                                \n",
            "                                                                 \n",
            " time_distributed_9 (TimeDi  (None, 1, 76, 8)          0         \n",
            " stributed)                                                      \n",
            "                                                                 \n",
            " time_distributed_10 (TimeD  (None, 1, 38, 8)          0         \n",
            " istributed)                                                     \n",
            "                                                                 \n",
            " time_distributed_11 (TimeD  (None, 1, 304)            0         \n",
            " istributed)                                                     \n",
            "                                                                 \n",
            " lstm (LSTM)                 (None, 1, 16)             20544     \n",
            "                                                                 \n",
            " dropout_3 (Dropout)         (None, 1, 16)             0         \n",
            "                                                                 \n",
            " lstm_1 (LSTM)               (None, 16)                2112      \n",
            "                                                                 \n",
            " dense (Dense)               (None, 5)                 85        \n",
            "                                                                 \n",
            "=================================================================\n",
            "Total params: 240413 (939.11 KB)\n",
            "Trainable params: 239053 (933.80 KB)\n",
            "Non-trainable params: 1360 (5.31 KB)\n",
            "_________________________________________________________________\n"
          ]
        }
      ]
    },
    {
      "cell_type": "code",
      "source": [
        "checkpoint_filepath = './drive/MyDrive/kursinis/Modeliai/model_LSTM_Complex_640_unf001_.{epoch:02d}-{val_loss:.2f}.h5'\n",
        "model_checkpoint_callback = tf.keras.callbacks.ModelCheckpoint(\n",
        "    filepath=checkpoint_filepath,\n",
        "    save_weights_only=True,\n",
        "    monitor='val_accuracy',\n",
        "    mode='max',\n",
        "    verbose=1,\n",
        "    save_best_only=True)"
      ],
      "metadata": {
        "id": "oYwn-3JMgjK6",
        "execution": {
          "iopub.status.busy": "2024-01-13T13:12:17.615651Z",
          "iopub.execute_input": "2024-01-13T13:12:17.615937Z",
          "iopub.status.idle": "2024-01-13T13:12:17.625618Z",
          "shell.execute_reply.started": "2024-01-13T13:12:17.615914Z",
          "shell.execute_reply": "2024-01-13T13:12:17.624719Z"
        },
        "trusted": true
      },
      "execution_count": 77,
      "outputs": []
    },
    {
      "cell_type": "code",
      "source": [
        "model.load_weights('./drive/MyDrive/kursinis/Modeliai/model_LSTM_Complex_640_unf001_.29-0.22.h5')"
      ],
      "metadata": {
        "id": "ntNeVZkjglub",
        "execution": {
          "iopub.status.busy": "2024-01-13T13:12:17.626889Z",
          "iopub.execute_input": "2024-01-13T13:12:17.627175Z",
          "iopub.status.idle": "2024-01-13T13:12:17.636304Z",
          "shell.execute_reply.started": "2024-01-13T13:12:17.627151Z",
          "shell.execute_reply": "2024-01-13T13:12:17.635386Z"
        },
        "trusted": true
      },
      "execution_count": 90,
      "outputs": []
    },
    {
      "cell_type": "code",
      "source": [
        "# Reshape the input data to add an extra dimension\n",
        "x_train_noisy = np.expand_dims(x_train_noisy, axis=1)\n",
        "x_train_noisy.shape"
      ],
      "metadata": {
        "colab": {
          "base_uri": "https://localhost:8080/"
        },
        "id": "6jC_X-7LmyKV",
        "outputId": "309c1dc5-8d9b-4d31-ecca-11317201be4e",
        "execution": {
          "iopub.status.busy": "2024-01-13T13:12:17.637742Z",
          "iopub.execute_input": "2024-01-13T13:12:17.638136Z",
          "iopub.status.idle": "2024-01-13T13:12:17.648326Z",
          "shell.execute_reply.started": "2024-01-13T13:12:17.638083Z",
          "shell.execute_reply": "2024-01-13T13:12:17.647379Z"
        },
        "trusted": true
      },
      "execution_count": 79,
      "outputs": [
        {
          "output_type": "execute_result",
          "data": {
            "text/plain": [
              "(203409, 1, 640, 3)"
            ]
          },
          "metadata": {},
          "execution_count": 79
        }
      ]
    },
    {
      "cell_type": "code",
      "source": [
        "# x_train_noisy = np.squeeze(x_train_noisy, axis=1)\n",
        "# x_train_noisy.shape"
      ],
      "metadata": {
        "id": "Hi0qxklUJnf3",
        "execution": {
          "iopub.status.busy": "2024-01-13T13:12:17.649780Z",
          "iopub.execute_input": "2024-01-13T13:12:17.650644Z",
          "iopub.status.idle": "2024-01-13T13:12:17.656721Z",
          "shell.execute_reply.started": "2024-01-13T13:12:17.650612Z",
          "shell.execute_reply": "2024-01-13T13:12:17.655774Z"
        },
        "trusted": true
      },
      "execution_count": 80,
      "outputs": []
    },
    {
      "cell_type": "code",
      "source": [
        "x_val = np.expand_dims(x_val, axis=1)\n",
        "x_val.shape"
      ],
      "metadata": {
        "colab": {
          "base_uri": "https://localhost:8080/"
        },
        "id": "lXJ8cM0WpzXw",
        "outputId": "b2569eef-9455-4f43-aeb0-871ff4647b20",
        "execution": {
          "iopub.status.busy": "2024-01-13T13:12:17.658007Z",
          "iopub.execute_input": "2024-01-13T13:12:17.658302Z",
          "iopub.status.idle": "2024-01-13T13:12:17.668495Z",
          "shell.execute_reply.started": "2024-01-13T13:12:17.658278Z",
          "shell.execute_reply": "2024-01-13T13:12:17.667576Z"
        },
        "trusted": true
      },
      "execution_count": 81,
      "outputs": [
        {
          "output_type": "execute_result",
          "data": {
            "text/plain": [
              "(200, 1, 640, 3)"
            ]
          },
          "metadata": {},
          "execution_count": 81
        }
      ]
    },
    {
      "cell_type": "code",
      "source": [
        "# x_val = np.squeeze(x_val, axis=1)\n",
        "# x_val.shape"
      ],
      "metadata": {
        "id": "fg52VGKNJnzi",
        "execution": {
          "iopub.status.busy": "2024-01-13T13:12:17.669471Z",
          "iopub.execute_input": "2024-01-13T13:12:17.669737Z",
          "iopub.status.idle": "2024-01-13T13:12:17.677592Z",
          "shell.execute_reply.started": "2024-01-13T13:12:17.669713Z",
          "shell.execute_reply": "2024-01-13T13:12:17.676594Z"
        },
        "trusted": true
      },
      "execution_count": 82,
      "outputs": []
    },
    {
      "cell_type": "code",
      "source": [
        "x_test = np.expand_dims(x_test, axis=1)\n",
        "x_test.shape"
      ],
      "metadata": {
        "colab": {
          "base_uri": "https://localhost:8080/"
        },
        "id": "gpaL2Ge9ulgO",
        "outputId": "88a2f4f4-48da-4050-edfd-54f6b1b66e5b",
        "execution": {
          "iopub.status.busy": "2024-01-13T13:12:17.678656Z",
          "iopub.execute_input": "2024-01-13T13:12:17.678926Z",
          "iopub.status.idle": "2024-01-13T13:12:17.689467Z",
          "shell.execute_reply.started": "2024-01-13T13:12:17.678903Z",
          "shell.execute_reply": "2024-01-13T13:12:17.688550Z"
        },
        "trusted": true
      },
      "execution_count": 83,
      "outputs": [
        {
          "output_type": "execute_result",
          "data": {
            "text/plain": [
              "(100, 1, 640, 3)"
            ]
          },
          "metadata": {},
          "execution_count": 83
        }
      ]
    },
    {
      "cell_type": "code",
      "source": [
        "# x_test = np.squeeze(x_test, axis=1)\n",
        "# x_test.shape"
      ],
      "metadata": {
        "id": "hXtsCnrrJoN6",
        "execution": {
          "iopub.status.busy": "2024-01-13T13:12:17.690648Z",
          "iopub.execute_input": "2024-01-13T13:12:17.690928Z",
          "iopub.status.idle": "2024-01-13T13:12:17.699255Z",
          "shell.execute_reply.started": "2024-01-13T13:12:17.690903Z",
          "shell.execute_reply": "2024-01-13T13:12:17.698406Z"
        },
        "trusted": true
      },
      "execution_count": 84,
      "outputs": []
    },
    {
      "cell_type": "code",
      "source": [
        "# Train the model\n",
        "model.fit(\n",
        "    x_train_noisy,\n",
        "    y_train_noisy,\n",
        "    validation_data=(x_val, y_val),\n",
        "    epochs=30,\n",
        "    batch_size=16,\n",
        "    shuffle=True,\n",
        "    class_weight=class_weights,\n",
        "    callbacks=[model_checkpoint_callback]\n",
        ")"
      ],
      "metadata": {
        "colab": {
          "base_uri": "https://localhost:8080/"
        },
        "id": "4a8BumIJxjDD",
        "outputId": "cb7472fa-1aa1-4ceb-8e05-aaaaff46943b",
        "execution": {
          "iopub.status.busy": "2024-01-13T13:12:17.700448Z",
          "iopub.execute_input": "2024-01-13T13:12:17.700821Z"
        },
        "trusted": true
      },
      "execution_count": 85,
      "outputs": [
        {
          "output_type": "stream",
          "name": "stdout",
          "text": [
            "Epoch 1/30\n",
            "12714/12714 [==============================] - ETA: 0s - loss: 0.5122 - accuracy: 0.7892\n",
            "Epoch 1: val_accuracy improved from -inf to 0.70000, saving model to ./drive/MyDrive/kursinis/Modeliai/model_LSTM_Complex_640_unf001_.01-0.96.h5\n",
            "12714/12714 [==============================] - 179s 13ms/step - loss: 0.5122 - accuracy: 0.7892 - val_loss: 0.9609 - val_accuracy: 0.7000\n",
            "Epoch 2/30\n",
            "12710/12714 [============================>.] - ETA: 0s - loss: 0.2139 - accuracy: 0.9245\n",
            "Epoch 2: val_accuracy improved from 0.70000 to 0.80500, saving model to ./drive/MyDrive/kursinis/Modeliai/model_LSTM_Complex_640_unf001_.02-0.64.h5\n",
            "12714/12714 [==============================] - 164s 13ms/step - loss: 0.2140 - accuracy: 0.9245 - val_loss: 0.6379 - val_accuracy: 0.8050\n",
            "Epoch 3/30\n",
            "12710/12714 [============================>.] - ETA: 0s - loss: 0.1482 - accuracy: 0.9487\n",
            "Epoch 3: val_accuracy improved from 0.80500 to 0.84000, saving model to ./drive/MyDrive/kursinis/Modeliai/model_LSTM_Complex_640_unf001_.03-0.65.h5\n",
            "12714/12714 [==============================] - 164s 13ms/step - loss: 0.1482 - accuracy: 0.9487 - val_loss: 0.6494 - val_accuracy: 0.8400\n",
            "Epoch 4/30\n",
            "12711/12714 [============================>.] - ETA: 0s - loss: 0.1147 - accuracy: 0.9611\n",
            "Epoch 4: val_accuracy improved from 0.84000 to 0.88000, saving model to ./drive/MyDrive/kursinis/Modeliai/model_LSTM_Complex_640_unf001_.04-0.46.h5\n",
            "12714/12714 [==============================] - 165s 13ms/step - loss: 0.1147 - accuracy: 0.9611 - val_loss: 0.4567 - val_accuracy: 0.8800\n",
            "Epoch 5/30\n",
            "12713/12714 [============================>.] - ETA: 0s - loss: 0.0937 - accuracy: 0.9684\n",
            "Epoch 5: val_accuracy did not improve from 0.88000\n",
            "12714/12714 [==============================] - 165s 13ms/step - loss: 0.0937 - accuracy: 0.9684 - val_loss: 0.5161 - val_accuracy: 0.8750\n",
            "Epoch 6/30\n",
            "12712/12714 [============================>.] - ETA: 0s - loss: 0.0804 - accuracy: 0.9730\n",
            "Epoch 6: val_accuracy did not improve from 0.88000\n",
            "12714/12714 [==============================] - 165s 13ms/step - loss: 0.0804 - accuracy: 0.9730 - val_loss: 0.5229 - val_accuracy: 0.8750\n",
            "Epoch 7/30\n",
            "12713/12714 [============================>.] - ETA: 0s - loss: 0.0694 - accuracy: 0.9769\n",
            "Epoch 7: val_accuracy improved from 0.88000 to 0.89500, saving model to ./drive/MyDrive/kursinis/Modeliai/model_LSTM_Complex_640_unf001_.07-0.45.h5\n",
            "12714/12714 [==============================] - 166s 13ms/step - loss: 0.0694 - accuracy: 0.9769 - val_loss: 0.4470 - val_accuracy: 0.8950\n",
            "Epoch 8/30\n",
            "12711/12714 [============================>.] - ETA: 0s - loss: 0.0635 - accuracy: 0.9791\n",
            "Epoch 8: val_accuracy did not improve from 0.89500\n",
            "12714/12714 [==============================] - 166s 13ms/step - loss: 0.0635 - accuracy: 0.9791 - val_loss: 0.5478 - val_accuracy: 0.8750\n",
            "Epoch 9/30\n",
            "12712/12714 [============================>.] - ETA: 0s - loss: 0.0568 - accuracy: 0.9813\n",
            "Epoch 9: val_accuracy improved from 0.89500 to 0.90000, saving model to ./drive/MyDrive/kursinis/Modeliai/model_LSTM_Complex_640_unf001_.09-0.39.h5\n",
            "12714/12714 [==============================] - 165s 13ms/step - loss: 0.0568 - accuracy: 0.9813 - val_loss: 0.3875 - val_accuracy: 0.9000\n",
            "Epoch 10/30\n",
            "12712/12714 [============================>.] - ETA: 0s - loss: 0.0508 - accuracy: 0.9837\n",
            "Epoch 10: val_accuracy improved from 0.90000 to 0.93000, saving model to ./drive/MyDrive/kursinis/Modeliai/model_LSTM_Complex_640_unf001_.10-0.33.h5\n",
            "12714/12714 [==============================] - 166s 13ms/step - loss: 0.0508 - accuracy: 0.9836 - val_loss: 0.3280 - val_accuracy: 0.9300\n",
            "Epoch 11/30\n",
            "12713/12714 [============================>.] - ETA: 0s - loss: 0.0480 - accuracy: 0.9840\n",
            "Epoch 11: val_accuracy did not improve from 0.93000\n",
            "12714/12714 [==============================] - 166s 13ms/step - loss: 0.0480 - accuracy: 0.9840 - val_loss: 0.4154 - val_accuracy: 0.8900\n",
            "Epoch 12/30\n",
            "12712/12714 [============================>.] - ETA: 0s - loss: 0.0443 - accuracy: 0.9856\n",
            "Epoch 12: val_accuracy did not improve from 0.93000\n",
            "12714/12714 [==============================] - 168s 13ms/step - loss: 0.0443 - accuracy: 0.9856 - val_loss: 0.4307 - val_accuracy: 0.8950\n",
            "Epoch 13/30\n",
            "12713/12714 [============================>.] - ETA: 0s - loss: 0.0415 - accuracy: 0.9867\n",
            "Epoch 13: val_accuracy did not improve from 0.93000\n",
            "12714/12714 [==============================] - 166s 13ms/step - loss: 0.0415 - accuracy: 0.9867 - val_loss: 0.3745 - val_accuracy: 0.9150\n",
            "Epoch 14/30\n",
            "12712/12714 [============================>.] - ETA: 0s - loss: 0.0391 - accuracy: 0.9876\n",
            "Epoch 14: val_accuracy did not improve from 0.93000\n",
            "12714/12714 [==============================] - 166s 13ms/step - loss: 0.0391 - accuracy: 0.9876 - val_loss: 0.3304 - val_accuracy: 0.9250\n",
            "Epoch 15/30\n",
            "12714/12714 [==============================] - ETA: 0s - loss: 0.0380 - accuracy: 0.9878\n",
            "Epoch 15: val_accuracy did not improve from 0.93000\n",
            "12714/12714 [==============================] - 166s 13ms/step - loss: 0.0380 - accuracy: 0.9878 - val_loss: 0.3333 - val_accuracy: 0.9250\n",
            "Epoch 16/30\n",
            "12714/12714 [==============================] - ETA: 0s - loss: 0.0344 - accuracy: 0.9889\n",
            "Epoch 16: val_accuracy did not improve from 0.93000\n",
            "12714/12714 [==============================] - 166s 13ms/step - loss: 0.0344 - accuracy: 0.9889 - val_loss: 0.3264 - val_accuracy: 0.9300\n",
            "Epoch 17/30\n",
            "12711/12714 [============================>.] - ETA: 0s - loss: 0.0344 - accuracy: 0.9890\n",
            "Epoch 17: val_accuracy did not improve from 0.93000\n",
            "12714/12714 [==============================] - 165s 13ms/step - loss: 0.0344 - accuracy: 0.9890 - val_loss: 0.2895 - val_accuracy: 0.9150\n",
            "Epoch 18/30\n",
            "12711/12714 [============================>.] - ETA: 0s - loss: 0.0332 - accuracy: 0.9894\n",
            "Epoch 18: val_accuracy did not improve from 0.93000\n",
            "12714/12714 [==============================] - 164s 13ms/step - loss: 0.0332 - accuracy: 0.9894 - val_loss: 0.4506 - val_accuracy: 0.9100\n",
            "Epoch 19/30\n",
            "12714/12714 [==============================] - ETA: 0s - loss: 0.0314 - accuracy: 0.9902\n",
            "Epoch 19: val_accuracy did not improve from 0.93000\n",
            "12714/12714 [==============================] - 166s 13ms/step - loss: 0.0314 - accuracy: 0.9902 - val_loss: 0.3337 - val_accuracy: 0.9250\n",
            "Epoch 20/30\n",
            "12712/12714 [============================>.] - ETA: 0s - loss: 0.0311 - accuracy: 0.9903\n",
            "Epoch 20: val_accuracy improved from 0.93000 to 0.93500, saving model to ./drive/MyDrive/kursinis/Modeliai/model_LSTM_Complex_640_unf001_.20-0.30.h5\n",
            "12714/12714 [==============================] - 165s 13ms/step - loss: 0.0312 - accuracy: 0.9903 - val_loss: 0.2973 - val_accuracy: 0.9350\n",
            "Epoch 21/30\n",
            "12714/12714 [==============================] - ETA: 0s - loss: 0.0290 - accuracy: 0.9907\n",
            "Epoch 21: val_accuracy did not improve from 0.93500\n",
            "12714/12714 [==============================] - 166s 13ms/step - loss: 0.0290 - accuracy: 0.9907 - val_loss: 0.4299 - val_accuracy: 0.9200\n",
            "Epoch 22/30\n",
            "12714/12714 [==============================] - ETA: 0s - loss: 0.0282 - accuracy: 0.9910\n",
            "Epoch 22: val_accuracy did not improve from 0.93500\n",
            "12714/12714 [==============================] - 166s 13ms/step - loss: 0.0282 - accuracy: 0.9910 - val_loss: 0.3050 - val_accuracy: 0.9300\n",
            "Epoch 23/30\n",
            "12713/12714 [============================>.] - ETA: 0s - loss: 0.0274 - accuracy: 0.9912\n",
            "Epoch 23: val_accuracy did not improve from 0.93500\n",
            "12714/12714 [==============================] - 166s 13ms/step - loss: 0.0274 - accuracy: 0.9912 - val_loss: 0.3308 - val_accuracy: 0.9100\n",
            "Epoch 24/30\n",
            "12712/12714 [============================>.] - ETA: 0s - loss: 0.0264 - accuracy: 0.9916\n",
            "Epoch 24: val_accuracy did not improve from 0.93500\n",
            "12714/12714 [==============================] - 166s 13ms/step - loss: 0.0264 - accuracy: 0.9916 - val_loss: 0.3335 - val_accuracy: 0.9150\n",
            "Epoch 25/30\n",
            "12711/12714 [============================>.] - ETA: 0s - loss: 0.0254 - accuracy: 0.9919\n",
            "Epoch 25: val_accuracy did not improve from 0.93500\n",
            "12714/12714 [==============================] - 166s 13ms/step - loss: 0.0254 - accuracy: 0.9919 - val_loss: 0.3749 - val_accuracy: 0.9100\n",
            "Epoch 26/30\n",
            "12714/12714 [==============================] - ETA: 0s - loss: 0.0252 - accuracy: 0.9920\n",
            "Epoch 26: val_accuracy did not improve from 0.93500\n",
            "12714/12714 [==============================] - 165s 13ms/step - loss: 0.0252 - accuracy: 0.9920 - val_loss: 0.3899 - val_accuracy: 0.9250\n",
            "Epoch 27/30\n",
            "12712/12714 [============================>.] - ETA: 0s - loss: 0.0252 - accuracy: 0.9919\n",
            "Epoch 27: val_accuracy did not improve from 0.93500\n",
            "12714/12714 [==============================] - 167s 13ms/step - loss: 0.0252 - accuracy: 0.9919 - val_loss: 0.2974 - val_accuracy: 0.9250\n",
            "Epoch 28/30\n",
            "12713/12714 [============================>.] - ETA: 0s - loss: 0.0242 - accuracy: 0.9922\n",
            "Epoch 28: val_accuracy did not improve from 0.93500\n",
            "12714/12714 [==============================] - 166s 13ms/step - loss: 0.0242 - accuracy: 0.9922 - val_loss: 0.3832 - val_accuracy: 0.9350\n",
            "Epoch 29/30\n",
            "12714/12714 [==============================] - ETA: 0s - loss: 0.0233 - accuracy: 0.9925\n",
            "Epoch 29: val_accuracy improved from 0.93500 to 0.95500, saving model to ./drive/MyDrive/kursinis/Modeliai/model_LSTM_Complex_640_unf001_.29-0.22.h5\n",
            "12714/12714 [==============================] - 168s 13ms/step - loss: 0.0233 - accuracy: 0.9925 - val_loss: 0.2239 - val_accuracy: 0.9550\n",
            "Epoch 30/30\n",
            "12711/12714 [============================>.] - ETA: 0s - loss: 0.0227 - accuracy: 0.9928\n",
            "Epoch 30: val_accuracy did not improve from 0.95500\n",
            "12714/12714 [==============================] - 167s 13ms/step - loss: 0.0227 - accuracy: 0.9928 - val_loss: 0.4009 - val_accuracy: 0.9150\n"
          ]
        },
        {
          "output_type": "execute_result",
          "data": {
            "text/plain": [
              "<keras.src.callbacks.History at 0x7f18b473f340>"
            ]
          },
          "metadata": {},
          "execution_count": 85
        }
      ]
    },
    {
      "cell_type": "code",
      "source": [
        "# Evaluate the model\n",
        "model.evaluate(x_test, y_test, verbose=1)"
      ],
      "metadata": {
        "id": "Y7Kv6cvxVMds",
        "trusted": true,
        "colab": {
          "base_uri": "https://localhost:8080/"
        },
        "outputId": "0b359e73-c24a-40a2-e3b1-3c69ddf20ddc"
      },
      "execution_count": 91,
      "outputs": [
        {
          "output_type": "stream",
          "name": "stdout",
          "text": [
            "4/4 [==============================] - 0s 16ms/step - loss: 0.4597 - accuracy: 0.9300\n"
          ]
        },
        {
          "output_type": "execute_result",
          "data": {
            "text/plain": [
              "[0.45965155959129333, 0.9300000071525574]"
            ]
          },
          "metadata": {},
          "execution_count": 91
        }
      ]
    },
    {
      "cell_type": "code",
      "source": [
        "# Evaluate the model and calculate accuracy\n",
        "predictions = model.predict(x_test)"
      ],
      "metadata": {
        "id": "xHMNn2II3iyi",
        "trusted": true,
        "colab": {
          "base_uri": "https://localhost:8080/"
        },
        "outputId": "b849dd3a-54b2-4be9-a444-952850ad1aa2"
      },
      "execution_count": 92,
      "outputs": [
        {
          "output_type": "stream",
          "name": "stdout",
          "text": [
            "4/4 [==============================] - 0s 13ms/step\n"
          ]
        }
      ]
    },
    {
      "cell_type": "code",
      "source": [
        "print(predictions.shape)\n",
        "print(x_test.shape)\n",
        "\n",
        "# Calculate accuracy for each label\n",
        "rounded_predictions = np.argmax(predictions, axis=1)\n",
        "\n",
        "# Calculate accuracy for each label\n",
        "correct = np.sum(rounded_predictions == y_test)\n",
        "\n",
        "total_samples = len(y_test)\n",
        "accuracy = correct / total_samples * 100\n",
        "print(f\"Overall Accuracy: {accuracy:.2f}%\")"
      ],
      "metadata": {
        "id": "hvFuLmZN3iPp",
        "trusted": true,
        "colab": {
          "base_uri": "https://localhost:8080/"
        },
        "outputId": "652d8503-9dac-42df-9278-f24dc015e55c"
      },
      "execution_count": 93,
      "outputs": [
        {
          "output_type": "stream",
          "name": "stdout",
          "text": [
            "(100, 5)\n",
            "(100, 1, 640, 3)\n",
            "Overall Accuracy: 93.00%\n"
          ]
        }
      ]
    },
    {
      "cell_type": "code",
      "source": [
        "from sklearn.metrics import classification_report\n",
        "unique_labels, counts = np.unique(labels_array, return_counts=True)\n",
        "print(\"Window size:\", window_size)\n",
        "print(\"Step size:\", step_size)\n",
        "print()\n",
        "print(\"Unique Labels:\", unique_labels)\n",
        "print(\"Class counts:\", counts)\n",
        "print(\"Original data:\", signals_array.shape)\n",
        "print()\n",
        "print(\"Train data (No aug):\", x_train.shape)\n",
        "print(\"Val data (No aug):\", x_val.shape)\n",
        "print(\"Test data (No aug):\", x_test.shape)\n",
        "print()\n",
        "print(\"Train data augmented:\", x_train_noisy.shape)\n",
        "print()\n",
        "print(f\"Test set accuracy: {accuracy:.2f}%\")\n",
        "print()\n",
        "print(classification_report(y_test, rounded_predictions))"
      ],
      "metadata": {
        "id": "zDy0fHDIKTHu",
        "trusted": true,
        "colab": {
          "base_uri": "https://localhost:8080/"
        },
        "outputId": "e9990286-50fd-4753-977a-05c51bfeb2b8"
      },
      "execution_count": 94,
      "outputs": [
        {
          "output_type": "stream",
          "name": "stdout",
          "text": [
            "Window size: 640\n",
            "Step size: 128\n",
            "\n",
            "Unique Labels: [0 1 2 3 4]\n",
            "Class counts: [187 189 201 213 209]\n",
            "Original data: (999, 640, 3)\n",
            "\n",
            "Train data (No aug): (699, 640, 3)\n",
            "Val data (No aug): (200, 1, 640, 3)\n",
            "Test data (No aug): (100, 1, 640, 3)\n",
            "\n",
            "Train data augmented: (203409, 1, 640, 3)\n",
            "\n",
            "Test set accuracy: 93.00%\n",
            "\n",
            "              precision    recall  f1-score   support\n",
            "\n",
            "           0       0.84      1.00      0.91        16\n",
            "           1       0.95      1.00      0.98        21\n",
            "           2       1.00      0.95      0.98        22\n",
            "           3       0.84      0.89      0.86        18\n",
            "           4       1.00      0.83      0.90        23\n",
            "\n",
            "    accuracy                           0.93       100\n",
            "   macro avg       0.93      0.93      0.93       100\n",
            "weighted avg       0.94      0.93      0.93       100\n",
            "\n"
          ]
        }
      ]
    }
  ]
}